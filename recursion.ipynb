{
 "cells": [
  {
   "cell_type": "code",
   "execution_count": 12,
   "id": "7b7ea822-bc81-4401-aa5c-b3537f03a3a7",
   "metadata": {},
   "outputs": [
    {
     "data": {
      "text/plain": [
       "['e', 'c', 'a', 'r']"
      ]
     },
     "execution_count": 12,
     "metadata": {},
     "output_type": "execute_result"
    }
   ],
   "source": [
    "\"\"\"\n",
    "Recursion is often overcomplicated and people don't understand it. Why don't people understand it?\n",
    "Well one of the fundemental ideas behind recursion is understanding the call stack\n",
    "\n",
    "So lets start with a basic problem that takes huge advantage of the stack\n",
    "\n",
    "\n",
    "I want you to reverse a string\n",
    "\n",
    "\n",
    "string = racecar\n",
    "\n",
    "\n",
    "How can we reverse this string recursively? An easy iterative solution would a two pointers \n",
    "approach where we have a start and end pointer and iterate inward swaping values as we go\n",
    "\n",
    "racecar\n",
    " s     e\n",
    "\n",
    "\n",
    "\"\"\"\n",
    "def reverse_iterative(array):\n",
    "    start = 0\n",
    "    end = len(array)-1\n",
    "    while start <= end:\n",
    "        array[start], array[end] = array[end], array[start]\n",
    "        start += 1\n",
    "        end -= 1\n",
    "    return array\n",
    "\n",
    "reverse_iterative([\"r\",\"a\", \"c\", \"e\"])"
   ]
  },
  {
   "cell_type": "code",
   "execution_count": 25,
   "id": "3ec4f366-c06d-471e-b504-439cd6ae025c",
   "metadata": {},
   "outputs": [
    {
     "name": "stdout",
     "output_type": "stream",
     "text": [
      "ecar\n"
     ]
    }
   ],
   "source": [
    "\"\"\"\n",
    "Ok that approach is really good as it runs in O(n) but how can we write it recursively?\n",
    "\n",
    "\"\"\"\n",
    "\n",
    "arr = [\"r\",\"a\", \"c\", \"e\"]\n",
    "def reverse_recurse(string):\n",
    "    if len(string) == 0:\n",
    "        return \"\"\n",
    "    else:\n",
    "        return reverse_recurse(string[1:]) + string[0]\n",
    "print(reverse_recurse(arr))\n"
   ]
  },
  {
   "cell_type": "code",
   "execution_count": 28,
   "id": "7df03d75-ee1a-435b-a535-9126ff19af3b",
   "metadata": {},
   "outputs": [
    {
     "data": {
      "text/plain": [
       "'\\nnow lets look at how to check if a string is a palindrome. \\n'"
      ]
     },
     "execution_count": 28,
     "metadata": {},
     "output_type": "execute_result"
    }
   ],
   "source": [
    "\"\"\"\n",
    "Now while both are a rather elegant implementation of the algorithm i personally think that the recursive approach\n",
    "more readable. If you get comfortable with recursion you will think the same thing. I think just looking at recursive \n",
    "problems willl make this more appearrent. Recursion is really good for making gradual changes to the state of our input\n",
    "\"\"\"\n",
    "\n",
    "\n",
    "\"\"\"\n",
    "now lets look at how to check if a string is a palindrome. \n",
    "\"\"\""
   ]
  },
  {
   "cell_type": "code",
   "execution_count": 42,
   "id": "2f2b02a0-7d44-4252-bcd0-a846837b0306",
   "metadata": {},
   "outputs": [
    {
     "data": {
      "text/plain": [
       "True"
      ]
     },
     "execution_count": 42,
     "metadata": {},
     "output_type": "execute_result"
    }
   ],
   "source": [
    "class Palindrome:\n",
    "    def __init__(self,palindrome):\n",
    "        self.substr = palindrome\n",
    "    def isPalIterative(self):\n",
    "        start = 0\n",
    "        end = len(self.substr) -1\n",
    "        while start <= end:\n",
    "            if self.substr[start] != self.substr[end]:\n",
    "                return False\n",
    "            start += 1\n",
    "            end -= 1\n",
    "        return True\n",
    "    \n",
    "    def isPal(self,string):\n",
    "        if len(string) == 0:\n",
    "            return True\n",
    "        \n",
    "        elif string[0] != string[-1]:\n",
    "            return False\n",
    "        \n",
    "        else:\n",
    "            return self.isPal(string[1:len(string)-1])\n",
    "        \n",
    "pal = Palindrome(\"racecar\")\n",
    "pal.isPal(\"racecar\")\n",
    "pal.isPalIterative()"
   ]
  },
  {
   "cell_type": "code",
   "execution_count": 47,
   "id": "f6351aba-538e-4745-a6ca-6af49b8c7070",
   "metadata": {},
   "outputs": [
    {
     "data": {
      "text/plain": [
       "'1101001'"
      ]
     },
     "execution_count": 47,
     "metadata": {},
     "output_type": "execute_result"
    }
   ],
   "source": [
    "\"\"\"\n",
    "Recursive thinking breaks down to just evaluating a string at every state till it reaches some terminating state.\n",
    "\n",
    "Now lets try converting a decimal number to binary\n",
    "\n",
    "\n",
    "\n",
    "\"\"\"\n",
    "def dec_to_b(num,output=\"\"):\n",
    "    if num == 1:\n",
    "        return output\n",
    "    output = str(num % 2) + output\n",
    "    return dec_to_b(num//2,output)\n",
    "dec_to_b(233)"
   ]
  },
  {
   "cell_type": "code",
   "execution_count": null,
   "id": "d85f097f-e3e7-4039-a928-4e29b44b82bc",
   "metadata": {},
   "outputs": [],
   "source": []
  }
 ],
 "metadata": {
  "kernelspec": {
   "display_name": "Python 3 (ipykernel)",
   "language": "python",
   "name": "python3"
  },
  "language_info": {
   "codemirror_mode": {
    "name": "ipython",
    "version": 3
   },
   "file_extension": ".py",
   "mimetype": "text/x-python",
   "name": "python",
   "nbconvert_exporter": "python",
   "pygments_lexer": "ipython3",
   "version": "3.9.6"
  }
 },
 "nbformat": 4,
 "nbformat_minor": 5
}

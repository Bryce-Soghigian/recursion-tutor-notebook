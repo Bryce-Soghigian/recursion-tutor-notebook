{
 "cells": [
  {
   "cell_type": "code",
   "execution_count": 12,
   "id": "7b7ea822-bc81-4401-aa5c-b3537f03a3a7",
   "metadata": {},
   "outputs": [
    {
     "data": {
      "text/plain": [
       "['e', 'c', 'a', 'r']"
      ]
     },
     "execution_count": 12,
     "metadata": {},
     "output_type": "execute_result"
    }
   ],
   "source": [
    "\"\"\"\n",
    "Recursion is often overcomplicated and people don't understand it. Why don't people understand it?\n",
    "Well one of the fundemental ideas behind recursion is understanding the call stack\n",
    "\n",
    "So lets start with a basic problem that takes huge advantage of the stack\n",
    "\n",
    "\n",
    "I want you to reverse a string\n",
    "\n",
    "\n",
    "string = racecar\n",
    "\n",
    "\n",
    "How can we reverse this string recursively? An easy iterative solution would a two pointers \n",
    "approach where we have a start and end pointer and iterate inward swaping values as we go\n",
    "\n",
    "racecar\n",
    " s     e\n",
    "\n",
    "\n",
    "\"\"\"\n",
    "def reverse_iterative(array):\n",
    "    start = 0\n",
    "    end = len(array)-1\n",
    "    while start <= end:\n",
    "        array[start], array[end] = array[end], array[start]\n",
    "        # We want to swap\n",
    "        #Then we move our pointers \n",
    "        start += 1\n",
    "        end -= 1\n",
    "    return array\n",
    "\n",
    "reverse_iterative([\"r\",\"a\", \"c\", \"e\"])"
   ]
  },
  {
   "cell_type": "code",
   "execution_count": 25,
   "id": "3ec4f366-c06d-471e-b504-439cd6ae025c",
   "metadata": {},
   "outputs": [
    {
     "name": "stdout",
     "output_type": "stream",
     "text": [
      "ecar\n"
     ]
    }
   ],
   "source": [
    "\"\"\"\n",
    "Ok that approach is really good as it runs in O(n) but how can we write it recursively?\n",
    "\n",
    "\"\"\"\n",
    "\n",
    "arr = [\"r\",\"a\", \"c\", \"e\"]\n",
    "def reverse_recurse(string):\n",
    "    if len(string) == 0:\n",
    "        return \"\"\n",
    "\n",
    "    else:\n",
    "        return reverse_recurse(string[1:]) + string[0]\n",
    "print(reverse_recurse(arr))\n"
   ]
  },
  {
   "cell_type": "code",
   "execution_count": null,
   "id": "7df03d75-ee1a-435b-a535-9126ff19af3b",
   "metadata": {},
   "outputs": [],
   "source": []
  }
 ],
 "metadata": {
  "kernelspec": {
   "display_name": "Python 3 (ipykernel)",
   "language": "python",
   "name": "python3"
  },
  "language_info": {
   "codemirror_mode": {
    "name": "ipython",
    "version": 3
   },
   "file_extension": ".py",
   "mimetype": "text/x-python",
   "name": "python",
   "nbconvert_exporter": "python",
   "pygments_lexer": "ipython3",
   "version": "3.9.6"
  }
 },
 "nbformat": 4,
 "nbformat_minor": 5
}
